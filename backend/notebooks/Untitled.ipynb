{
 "cells": [
  {
   "cell_type": "code",
   "execution_count": null,
   "id": "61adf556-42ca-4318-aebe-f1d03e546f70",
   "metadata": {},
   "outputs": [],
   "source": []
  }
 ],
 "metadata": {
  "kernelspec": {
   "display_name": "",
   "name": ""
  },
  "language_info": {
   "name": ""
  }
 },
 "nbformat": 4,
 "nbformat_minor": 5
}
